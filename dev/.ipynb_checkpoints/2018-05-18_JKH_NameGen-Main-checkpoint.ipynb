{
 "cells": [
  {
   "cell_type": "code",
   "execution_count": 71,
   "metadata": {},
   "outputs": [
    {
     "name": "stdout",
     "output_type": "stream",
     "text": [
      "numpy v1.14.3\n",
      "pandas v0.23.0\n",
      "tensorflow v1.8.0\n",
      "matplotlib v2.2.2\n"
     ]
    }
   ],
   "source": [
    "import numpy as np\n",
    "import pandas as pd\n",
    "import matplotlib\n",
    "import matplotlib.pyplot as plt\n",
    "import json\n",
    "import datetime\n",
    "import h5py\n",
    "import pickle\n",
    "\n",
    "import tensorflow as tf\n",
    "from tensorflow.python.keras.layers import Activation, Input, SimpleRNN, Dense, LSTM\n",
    "from tensorflow.python.keras.models import Model, Sequential, model_from_json\n",
    "from tensorflow.python.keras.utils import to_categorical\n",
    "from tensorflow.python.keras.optimizers import Adam\n",
    "\n",
    "print('numpy v{}'.format(np.__version__))\n",
    "print('pandas v{}'.format(pd.__version__))\n",
    "print('tensorflow v{}'.format(tf.__version__))\n",
    "print('matplotlib v{}'.format(matplotlib.__version__))\n",
    "\n",
    "%matplotlib inline"
   ]
  },
  {
   "cell_type": "markdown",
   "metadata": {},
   "source": [
    "# LOAD and VISUALIZE INPUTS"
   ]
  },
  {
   "cell_type": "code",
   "execution_count": 7,
   "metadata": {},
   "outputs": [],
   "source": [
    "def load_data(csv_file_path, verbose = True):\n",
    "    '''\n",
    "    Load and vizualize csv data\n",
    "    \n",
    "    ## Inputs\n",
    "    csv_file_path (string): example \"../data/inputs/characters_data.csv\"\n",
    "    verbose (boolean): show some feedbacks\n",
    "    ## Outputs\n",
    "    data (DataFrame): including 2 series Name and Race\n",
    "    '''\n",
    "    data = pd.read_csv(csv_file_path)\n",
    "    \n",
    "    if verbose:\n",
    "        print('## Data info:')\n",
    "        display(data.info())\n",
    "        \n",
    "        print('## Data describe:')\n",
    "        display(data.describe())\n",
    "        \n",
    "        print('## Data describe (inluding objects):')\n",
    "        display(data.describe(include=['object']))\n",
    "        \n",
    "        print('##Data extracts:')\n",
    "        display(data.agg([lambda s: set((s.drop_duplicates().tolist()))]).T['<lambda>'])\n",
    "    return data"
   ]
  },
  {
   "cell_type": "code",
   "execution_count": 8,
   "metadata": {
    "scrolled": false
   },
   "outputs": [
    {
     "name": "stdout",
     "output_type": "stream",
     "text": [
      "## Data info:\n",
      "<class 'pandas.core.frame.DataFrame'>\n",
      "RangeIndex: 827 entries, 0 to 826\n",
      "Data columns (total 2 columns):\n",
      "name    827 non-null object\n",
      "race    827 non-null object\n",
      "dtypes: object(2)\n",
      "memory usage: 13.0+ KB\n"
     ]
    },
    {
     "data": {
      "text/plain": [
       "None"
      ]
     },
     "metadata": {},
     "output_type": "display_data"
    },
    {
     "name": "stdout",
     "output_type": "stream",
     "text": [
      "## Data describe:\n"
     ]
    },
    {
     "data": {
      "text/html": [
       "<div>\n",
       "<style scoped>\n",
       "    .dataframe tbody tr th:only-of-type {\n",
       "        vertical-align: middle;\n",
       "    }\n",
       "\n",
       "    .dataframe tbody tr th {\n",
       "        vertical-align: top;\n",
       "    }\n",
       "\n",
       "    .dataframe thead th {\n",
       "        text-align: right;\n",
       "    }\n",
       "</style>\n",
       "<table border=\"1\" class=\"dataframe\">\n",
       "  <thead>\n",
       "    <tr style=\"text-align: right;\">\n",
       "      <th></th>\n",
       "      <th>name</th>\n",
       "      <th>race</th>\n",
       "    </tr>\n",
       "  </thead>\n",
       "  <tbody>\n",
       "    <tr>\n",
       "      <th>count</th>\n",
       "      <td>827</td>\n",
       "      <td>827</td>\n",
       "    </tr>\n",
       "    <tr>\n",
       "      <th>unique</th>\n",
       "      <td>774</td>\n",
       "      <td>5</td>\n",
       "    </tr>\n",
       "    <tr>\n",
       "      <th>top</th>\n",
       "      <td>Beren</td>\n",
       "      <td>Man</td>\n",
       "    </tr>\n",
       "    <tr>\n",
       "      <th>freq</th>\n",
       "      <td>3</td>\n",
       "      <td>419</td>\n",
       "    </tr>\n",
       "  </tbody>\n",
       "</table>\n",
       "</div>"
      ],
      "text/plain": [
       "         name race\n",
       "count     827  827\n",
       "unique    774    5\n",
       "top     Beren  Man\n",
       "freq        3  419"
      ]
     },
     "metadata": {},
     "output_type": "display_data"
    },
    {
     "name": "stdout",
     "output_type": "stream",
     "text": [
      "## Data describe (inluding objects):\n"
     ]
    },
    {
     "data": {
      "text/html": [
       "<div>\n",
       "<style scoped>\n",
       "    .dataframe tbody tr th:only-of-type {\n",
       "        vertical-align: middle;\n",
       "    }\n",
       "\n",
       "    .dataframe tbody tr th {\n",
       "        vertical-align: top;\n",
       "    }\n",
       "\n",
       "    .dataframe thead th {\n",
       "        text-align: right;\n",
       "    }\n",
       "</style>\n",
       "<table border=\"1\" class=\"dataframe\">\n",
       "  <thead>\n",
       "    <tr style=\"text-align: right;\">\n",
       "      <th></th>\n",
       "      <th>name</th>\n",
       "      <th>race</th>\n",
       "    </tr>\n",
       "  </thead>\n",
       "  <tbody>\n",
       "    <tr>\n",
       "      <th>count</th>\n",
       "      <td>827</td>\n",
       "      <td>827</td>\n",
       "    </tr>\n",
       "    <tr>\n",
       "      <th>unique</th>\n",
       "      <td>774</td>\n",
       "      <td>5</td>\n",
       "    </tr>\n",
       "    <tr>\n",
       "      <th>top</th>\n",
       "      <td>Beren</td>\n",
       "      <td>Man</td>\n",
       "    </tr>\n",
       "    <tr>\n",
       "      <th>freq</th>\n",
       "      <td>3</td>\n",
       "      <td>419</td>\n",
       "    </tr>\n",
       "  </tbody>\n",
       "</table>\n",
       "</div>"
      ],
      "text/plain": [
       "         name race\n",
       "count     827  827\n",
       "unique    774    5\n",
       "top     Beren  Man\n",
       "freq        3  419"
      ]
     },
     "metadata": {},
     "output_type": "display_data"
    },
    {
     "name": "stdout",
     "output_type": "stream",
     "text": [
      "##Data extracts:\n"
     ]
    },
    {
     "data": {
      "text/plain": [
       "name    {Hamson Gamgee, Éothain, Elphir, Náin, Urwen, ...\n",
       "race                     {Hobbit, Man, Elf, Ainur, Dwarf}\n",
       "Name: <lambda>, dtype: object"
      ]
     },
     "metadata": {},
     "output_type": "display_data"
    },
    {
     "name": "stdout",
     "output_type": "stream",
     "text": [
      "## Data info:\n",
      "<class 'pandas.core.frame.DataFrame'>\n",
      "RangeIndex: 5494 entries, 0 to 5493\n",
      "Data columns (total 1 columns):\n",
      "firstname    5494 non-null object\n",
      "dtypes: object(1)\n",
      "memory usage: 43.0+ KB\n"
     ]
    },
    {
     "data": {
      "text/plain": [
       "None"
      ]
     },
     "metadata": {},
     "output_type": "display_data"
    },
    {
     "name": "stdout",
     "output_type": "stream",
     "text": [
      "## Data describe:\n"
     ]
    },
    {
     "data": {
      "text/html": [
       "<div>\n",
       "<style scoped>\n",
       "    .dataframe tbody tr th:only-of-type {\n",
       "        vertical-align: middle;\n",
       "    }\n",
       "\n",
       "    .dataframe tbody tr th {\n",
       "        vertical-align: top;\n",
       "    }\n",
       "\n",
       "    .dataframe thead th {\n",
       "        text-align: right;\n",
       "    }\n",
       "</style>\n",
       "<table border=\"1\" class=\"dataframe\">\n",
       "  <thead>\n",
       "    <tr style=\"text-align: right;\">\n",
       "      <th></th>\n",
       "      <th>firstname</th>\n",
       "    </tr>\n",
       "  </thead>\n",
       "  <tbody>\n",
       "    <tr>\n",
       "      <th>count</th>\n",
       "      <td>5494</td>\n",
       "    </tr>\n",
       "    <tr>\n",
       "      <th>unique</th>\n",
       "      <td>5163</td>\n",
       "    </tr>\n",
       "    <tr>\n",
       "      <th>top</th>\n",
       "      <td>Jewel</td>\n",
       "    </tr>\n",
       "    <tr>\n",
       "      <th>freq</th>\n",
       "      <td>2</td>\n",
       "    </tr>\n",
       "  </tbody>\n",
       "</table>\n",
       "</div>"
      ],
      "text/plain": [
       "       firstname\n",
       "count       5494\n",
       "unique      5163\n",
       "top        Jewel\n",
       "freq           2"
      ]
     },
     "metadata": {},
     "output_type": "display_data"
    },
    {
     "name": "stdout",
     "output_type": "stream",
     "text": [
      "## Data describe (inluding objects):\n"
     ]
    },
    {
     "data": {
      "text/html": [
       "<div>\n",
       "<style scoped>\n",
       "    .dataframe tbody tr th:only-of-type {\n",
       "        vertical-align: middle;\n",
       "    }\n",
       "\n",
       "    .dataframe tbody tr th {\n",
       "        vertical-align: top;\n",
       "    }\n",
       "\n",
       "    .dataframe thead th {\n",
       "        text-align: right;\n",
       "    }\n",
       "</style>\n",
       "<table border=\"1\" class=\"dataframe\">\n",
       "  <thead>\n",
       "    <tr style=\"text-align: right;\">\n",
       "      <th></th>\n",
       "      <th>firstname</th>\n",
       "    </tr>\n",
       "  </thead>\n",
       "  <tbody>\n",
       "    <tr>\n",
       "      <th>count</th>\n",
       "      <td>5494</td>\n",
       "    </tr>\n",
       "    <tr>\n",
       "      <th>unique</th>\n",
       "      <td>5163</td>\n",
       "    </tr>\n",
       "    <tr>\n",
       "      <th>top</th>\n",
       "      <td>Jewel</td>\n",
       "    </tr>\n",
       "    <tr>\n",
       "      <th>freq</th>\n",
       "      <td>2</td>\n",
       "    </tr>\n",
       "  </tbody>\n",
       "</table>\n",
       "</div>"
      ],
      "text/plain": [
       "       firstname\n",
       "count       5494\n",
       "unique      5163\n",
       "top        Jewel\n",
       "freq           2"
      ]
     },
     "metadata": {},
     "output_type": "display_data"
    },
    {
     "name": "stdout",
     "output_type": "stream",
     "text": [
      "##Data extracts:\n"
     ]
    },
    {
     "data": {
      "text/plain": [
       "firstname    {Elida, Jack, Pearlie, Malcom, Giuseppe, Corri...\n",
       "Name: <lambda>, dtype: object"
      ]
     },
     "metadata": {},
     "output_type": "display_data"
    }
   ],
   "source": [
    "# Load data\n",
    "\n",
    "lotr       = load_data('../data/inputs/characters_data.csv')\n",
    "firstnames = load_data('../data/inputs/first_names.csv')"
   ]
  },
  {
   "cell_type": "code",
   "execution_count": 9,
   "metadata": {},
   "outputs": [
    {
     "data": {
      "text/plain": [
       "<matplotlib.axes._subplots.AxesSubplot at 0x1b18f96b908>"
      ]
     },
     "execution_count": 9,
     "metadata": {},
     "output_type": "execute_result"
    },
    {
     "data": {
      "text/plain": [
       "<Figure size 432x288 with 0 Axes>"
      ]
     },
     "metadata": {},
     "output_type": "display_data"
    },
    {
     "data": {
      "image/png": "[encoded data removed]",
      "text/plain": [
       "<Figure size 432x288 with 1 Axes>"
      ]
     },
     "metadata": {},
     "output_type": "display_data"
    },
    {
     "data": {
      "text/plain": [
       "<Figure size 432x288 with 0 Axes>"
      ]
     },
     "metadata": {},
     "output_type": "display_data"
    },
    {
     "data": {
      "image/png": "[encoded data removed]",
      "text/plain": [
       "<Figure size 432x288 with 1 Axes>"
      ]
     },
     "metadata": {},
     "output_type": "display_data"
    },
    {
     "data": {
      "image/png": "[encoded data removed]",
      "text/plain": [
       "<Figure size 432x288 with 1 Axes>"
      ]
     },
     "metadata": {},
     "output_type": "display_data"
    }
   ],
   "source": [
    "# Visualize LOTR data\n",
    "\n",
    "plt.figure('Races')\n",
    "lotr.groupby('race').count().plot.bar()\n",
    "\n",
    "plt.figure('Chars')\n",
    "lotr_chars = pd.DataFrame(data={'char': list(lotr['name'].str.cat())})\n",
    "lotr_chars_count = lotr_chars.groupby('char').size().reset_index(name='counts')\n",
    "lotr_chars_count = lotr_chars_count.set_index('char').sort_values('counts', ascending =False)\n",
    "\n",
    "lotr_chars_count[:10].plot(kind=\"bar\")\n",
    "lotr_chars_count[-10:].plot(kind=\"bar\")"
   ]
  },
  {
   "cell_type": "markdown",
   "metadata": {},
   "source": [
    "# CLEAN DATA"
   ]
  },
  {
   "cell_type": "code",
   "execution_count": 10,
   "metadata": {},
   "outputs": [],
   "source": [
    "def clean_lotr_data(data, padding_start = '#', padding_end = '*', verbose=True):\n",
    "    '''\n",
    "    Clean LOTR data, removing unwanted characters and adding some padding\n",
    "    \n",
    "    ## Inputs\n",
    "    data (DataFrame): including name and race columns\n",
    "    padding_start (string): character to add to the start of a name\n",
    "    padding_end (string): character to add to the end of a name\n",
    "    verbose (boolean): show some feedbacks\n",
    "    ## Outputs\n",
    "    data (DataFrame): including 2 series \"name\" and 'group'\n",
    "    '''\n",
    "    # Create a copy\n",
    "    data_cleaned = data.copy()\n",
    "    \n",
    "    # Rename the grouping column\n",
    "    data_cleaned = data_cleaned.rename(columns={'race': 'group'})\n",
    "    \n",
    "    # Cleaning operations\n",
    "    data_cleaned['name'] = data_cleaned['name'].map(lambda n: n.strip(\" -.\"))        # remove unwanted starting/ending chars\n",
    "    data_cleaned['name'] = data_cleaned['name'].map(lambda n: n.rstrip(\" VI\"))       # remove unwanted starting/ending chars\n",
    "    data_cleaned['name'] = data_cleaned['name'].map(lambda n: n.replace('\\xad', '')) # remove soft hyphen\n",
    "    data_cleaned['name'] = data_cleaned['name'].map(lambda n: n.replace('#', ''))    # replace characters used for training\n",
    "    data_cleaned['name'] = data_cleaned['name'].map(lambda n: n.replace('*', ''))    # replace characters used for training\n",
    "    data_cleaned['name'] = data_cleaned['name'].map(lambda n: n.split(',', 1)[0])    # remove titles\n",
    "    data_cleaned['name'] = data_cleaned['name'].map(lambda n: padding_start + n + padding_end) # Add padding chars\n",
    "    # padding characters is used to ease the training data generation\n",
    "    \n",
    "    print('{} rows cleaned !'.format(len(data_cleaned))) if verbose else None\n",
    "    \n",
    "    return data_cleaned"
   ]
  },
  {
   "cell_type": "code",
   "execution_count": 11,
   "metadata": {},
   "outputs": [],
   "source": [
    "def clean_firstnames_data(data, padding_start = '#', padding_end = '*', verbose=True):\n",
    "    '''\n",
    "    Clean First Names data, removing unwanted characters and adding some padding\n",
    "    \n",
    "    ## Inputs\n",
    "    data (DataFrame): including name and race columns\n",
    "    padding_start (string): character to add to the start of a name\n",
    "    padding_end (string): character to add to the end of a name\n",
    "    verbose (boolean): show some feedbacks\n",
    "    ## Outputs\n",
    "    data (DataFrame): including 2 series 'name' and 'group'\n",
    "    '''\n",
    "    # Create a copy\n",
    "    data_cleaned = data.copy()\n",
    "    \n",
    "    # Rename the main column\n",
    "    data_cleaned = data_cleaned.rename(columns={'firstname': 'name'})\n",
    "    \n",
    "    # Add a grouping colmun\n",
    "    data_cleaned['group'] = 'Real'\n",
    "    \n",
    "    # Cleaning operations\n",
    "    data_cleaned['name'] = data_cleaned['name'].map(lambda n: n.replace('\\xad', '')) # remove soft hyphen\n",
    "    data_cleaned['name'] = data_cleaned['name'].map(lambda n: n.replace('#', ''))    # replace characters used for training\n",
    "    data_cleaned['name'] = data_cleaned['name'].map(lambda n: n.replace('*', ''))    # replace characters used for training\n",
    "    data_cleaned['name'] = data_cleaned['name'].map(lambda n: padding_start + n + padding_end) # Add padding\n",
    "    # padding characters is used to ease the training data generation\n",
    "    \n",
    "    print('{} rows cleaned !'.format(len(data_cleaned))) if verbose else None\n",
    "    \n",
    "    return data_cleaned"
   ]
  },
  {
   "cell_type": "code",
   "execution_count": 12,
   "metadata": {
    "scrolled": false
   },
   "outputs": [
    {
     "name": "stdout",
     "output_type": "stream",
     "text": [
      "827 rows cleaned !\n",
      "5494 rows cleaned !\n"
     ]
    },
    {
     "data": {
      "text/html": [
       "<div>\n",
       "<style scoped>\n",
       "    .dataframe tbody tr th:only-of-type {\n",
       "        vertical-align: middle;\n",
       "    }\n",
       "\n",
       "    .dataframe tbody tr th {\n",
       "        vertical-align: top;\n",
       "    }\n",
       "\n",
       "    .dataframe thead th {\n",
       "        text-align: right;\n",
       "    }\n",
       "</style>\n",
       "<table border=\"1\" class=\"dataframe\">\n",
       "  <thead>\n",
       "    <tr style=\"text-align: right;\">\n",
       "      <th></th>\n",
       "      <th>name</th>\n",
       "      <th>group</th>\n",
       "    </tr>\n",
       "  </thead>\n",
       "  <tbody>\n",
       "    <tr>\n",
       "      <th>count</th>\n",
       "      <td>6321</td>\n",
       "      <td>6321</td>\n",
       "    </tr>\n",
       "    <tr>\n",
       "      <th>unique</th>\n",
       "      <td>5896</td>\n",
       "      <td>6</td>\n",
       "    </tr>\n",
       "    <tr>\n",
       "      <th>top</th>\n",
       "      <td>#Húrin*</td>\n",
       "      <td>Real</td>\n",
       "    </tr>\n",
       "    <tr>\n",
       "      <th>freq</th>\n",
       "      <td>5</td>\n",
       "      <td>5494</td>\n",
       "    </tr>\n",
       "  </tbody>\n",
       "</table>\n",
       "</div>"
      ],
      "text/plain": [
       "           name group\n",
       "count      6321  6321\n",
       "unique     5896     6\n",
       "top     #Húrin*  Real\n",
       "freq          5  5494"
      ]
     },
     "metadata": {},
     "output_type": "display_data"
    },
    {
     "data": {
      "text/plain": [
       "<matplotlib.axes._subplots.AxesSubplot at 0x1b18fca6f60>"
      ]
     },
     "execution_count": 12,
     "metadata": {},
     "output_type": "execute_result"
    },
    {
     "data": {
      "image/png": "[encoded data removed]",
      "text/plain": [
       "<Figure size 432x288 with 1 Axes>"
      ]
     },
     "metadata": {},
     "output_type": "display_data"
    }
   ],
   "source": [
    "# Clean data\n",
    "\n",
    "# Padding characters is used to ease the training data generation\n",
    "# We will use them to create fix-sized sequences to feed our model during training and prediction\n",
    "padding_start = '#'\n",
    "padding_end = '*'\n",
    "\n",
    "# Create clean dataframe with name and group columns\n",
    "# remove unwanted characters and with padding chararcters : '#' + name + '*'\n",
    "lotr_cleaned = clean_lotr_data(lotr, padding_start, padding_end)                   # group : Man, Elf, Hobbit, ...\n",
    "firstnames_cleaned = clean_firstnames_data(firstnames, padding_start, padding_end) # group : Real\n",
    "\n",
    "# Merge all cleaned data\n",
    "clean_data = pd.concat([lotr_cleaned, firstnames_cleaned])\n",
    "\n",
    "display(clean_data.describe())\n",
    "clean_data.groupby('group').count().plot.bar()"
   ]
  },
  {
   "cell_type": "code",
   "execution_count": 13,
   "metadata": {},
   "outputs": [
    {
     "name": "stdout",
     "output_type": "stream",
     "text": [
      "Example of names to be cleaned:\n",
      "                   name    race\n",
      "0            Aragorn II     Man\n",
      "155            Durin VI   Dwarf\n",
      "165             Dáin II   Dwarf\n",
      "385        Tar-Meneldur     Man\n",
      "498  Otho Sackville-...  Hobbit\n",
      "575  Tolman Cotton, Jr.  Hobbit\n",
      "721              Amdí­r     Elf\n",
      "Max name size: 20\n",
      "--\n",
      "\n",
      "Cleaned names:\n",
      "                 name   group\n",
      "0           #Aragorn*     Man\n",
      "155           #Durin*   Dwarf\n",
      "165            #Dáin*   Dwarf\n",
      "385    #Tar-Meneldur*     Man\n",
      "498  #Otho Sackville*  Hobbit\n",
      "575   #Tolman Cotton*  Hobbit\n",
      "721           #Amdír*     Elf\n",
      "Max name size: 22\n",
      "--\n",
      "\n",
      "Firstnames:\n",
      "      name group\n",
      "0  #Aaron*  Real\n",
      "1  #Aaron*  Real\n",
      "2  #Abbey*  Real\n",
      "3  #Abbie*  Real\n",
      "4   #Abby*  Real\n",
      "Max name size: 13\n",
      "--\n",
      "\n"
     ]
    }
   ],
   "source": [
    "# Visualization of data cleaning\n",
    "\n",
    "# Pick some LOTR names to be cleaned\n",
    "examples_index = np.r_[0, 155, 165, 385, 498, 575, 721] \n",
    "print('Example of names to be cleaned:')\n",
    "print(lotr.loc[examples_index])\n",
    "print('Max name size: {}'.format(lotr['name'].map(len).max()))\n",
    "print('--\\n')\n",
    "\n",
    "print('Cleaned names:')\n",
    "print(lotr_cleaned.loc[examples_index])\n",
    "print('Max name size: {}'.format(lotr_cleaned['name'].map(len).max()))\n",
    "print('--\\n')\n",
    "\n",
    "print('Firstnames:')\n",
    "print(firstnames_cleaned[:5])\n",
    "print('Max name size: {}'.format(firstnames_cleaned['name'].map(len).max()))\n",
    "print('--\\n')"
   ]
  },
  {
   "cell_type": "markdown",
   "metadata": {},
   "source": [
    "# TRANSFORM DATA"
   ]
  },
  {
   "cell_type": "code",
   "execution_count": 14,
   "metadata": {},
   "outputs": [],
   "source": [
    "def build_inputs(data_cleaned, verbose=True):\n",
    "    '''\n",
    "    Build data for RNN model\n",
    "    \n",
    "    ## Inputs:\n",
    "    data_cleaned (DataFrame): including 2 series 'name' and 'group'\n",
    "    verbose (boolean): show some feedbacks\n",
    "    ## Outputs:\n",
    "    data_dict (dict): dictionary with one entry per group\n",
    "                        Each group entry is a dictionnary with\n",
    "                            - group (string)\n",
    "                            - name_list (list): list of strings\n",
    "                            - char_list (list): list of unique characters included in all names\n",
    "                            - char_to_ix (dict): to transform a character in its corresponding index in char_list\n",
    "                            - ix_to_char (dict): to transform a index in its corresponding character in char_list\n",
    "    '''\n",
    "    groups = data_cleaned['group'].unique()\n",
    "\n",
    "    data_dict = {}\n",
    "\n",
    "    for r in groups:\n",
    "        data_dict[r] = {}\n",
    "        data_dict[r]['group'] = r\n",
    "        data_dict[r]['name_list'] = data_cleaned[data_cleaned['group'] == r]['name']\n",
    "        data_dict[r]['char_list'] = sorted(list(set(data_dict[r]['name_list'].str.cat() + '*')))\n",
    "        data_dict[r]['char_to_ix'] = { ch:i for i,ch in enumerate(data_dict[r]['char_list']) }\n",
    "        data_dict[r]['ix_to_char'] = { i:ch for i,ch in enumerate(data_dict[r]['char_list']) }\n",
    "\n",
    "    if verbose:\n",
    "        for k, v in data_dict.items():\n",
    "            print('group: {}'.format(k))\n",
    "            print('  - number of names: {} ({}, ...)'.format(len(v['name_list']), v['name_list'][:5].tolist()))\n",
    "            print('  - number of chars: {}'.format(len(v['char_list'])))\n",
    "            print('  - chars: {}'.format(v['char_list']))\n",
    "            print('  - char_to_ix: {}'.format(v['char_to_ix']))\n",
    "            print('  - ix_to_char: {}'.format(v['ix_to_char']))\n",
    "            print('######################')\n",
    "    \n",
    "    return data_dict"
   ]
  },
  {
   "cell_type": "code",
   "execution_count": 15,
   "metadata": {},
   "outputs": [
    {
     "name": "stdout",
     "output_type": "stream",
     "text": [
      "group: Man\n",
      "  - number of names: 419 (['#Aragorn*', '#Tuor*', '#Vardamir*', '#Tindómiel*', '#Manwedil*'], ...)\n",
      "  - number of chars: 63\n",
      "  - chars: ['#', '*', '-', 'A', 'B', 'C', 'D', 'E', 'F', 'G', 'H', 'I', 'L', 'M', 'N', 'O', 'P', 'R', 'S', 'T', 'U', 'V', 'W', 'Y', 'Z', 'a', 'b', 'c', 'd', 'e', 'f', 'g', 'h', 'i', 'k', 'l', 'm', 'n', 'o', 'p', 'r', 's', 't', 'u', 'v', 'w', 'x', 'y', 'z', 'É', 'Í', 'Î', 'á', 'â', 'ä', 'é', 'ê', 'ë', 'í', 'ó', 'ô', 'ú', 'û']\n",
      "  - char_to_ix: {'u': 43, 'Î': 51, 'N': 14, 'á': 52, 'ú': 61, 'o': 38, 'é': 55, 'x': 46, 'k': 34, 'A': 3, 'a': 25, 'H': 10, 'û': 62, 'm': 36, 'R': 17, 'l': 35, 'n': 37, 'B': 4, 'í': 58, 'C': 5, 'V': 21, 'Z': 24, 'D': 6, 'G': 9, 'r': 40, 'Í': 50, '-': 2, 'T': 19, 'c': 27, 'M': 13, 'g': 31, 'P': 16, 'w': 45, 'z': 48, '*': 1, 'i': 33, 'y': 47, 'd': 28, 'F': 8, 'U': 20, 'ä': 54, 'ó': 59, '#': 0, 't': 42, 'h': 32, 'ô': 60, 'Y': 23, 'v': 44, 'e': 29, 'S': 18, 'b': 26, 'ê': 56, 'É': 49, 'f': 30, 'â': 53, 'O': 15, 'W': 22, 'I': 11, 'p': 39, 'L': 12, 's': 41, 'E': 7, 'ë': 57}\n",
      "  - ix_to_char: {0: '#', 1: '*', 2: '-', 3: 'A', 4: 'B', 5: 'C', 6: 'D', 7: 'E', 8: 'F', 9: 'G', 10: 'H', 11: 'I', 12: 'L', 13: 'M', 14: 'N', 15: 'O', 16: 'P', 17: 'R', 18: 'S', 19: 'T', 20: 'U', 21: 'V', 22: 'W', 23: 'Y', 24: 'Z', 25: 'a', 26: 'b', 27: 'c', 28: 'd', 29: 'e', 30: 'f', 31: 'g', 32: 'h', 33: 'i', 34: 'k', 35: 'l', 36: 'm', 37: 'n', 38: 'o', 39: 'p', 40: 'r', 41: 's', 42: 't', 43: 'u', 44: 'v', 45: 'w', 46: 'x', 47: 'y', 48: 'z', 49: 'É', 50: 'Í', 51: 'Î', 52: 'á', 53: 'â', 54: 'ä', 55: 'é', 56: 'ê', 57: 'ë', 58: 'í', 59: 'ó', 60: 'ô', 61: 'ú', 62: 'û'}\n",
      "######################\n",
      "group: Elf\n",
      "  - number of names: 111 (['#Arwen*', '#Elrond*', '#Celebrían*', '#Elrohir*', '#Elladan*'], ...)\n",
      "  - number of chars: 48\n",
      "  - chars: ['#', '*', '-', 'A', 'B', 'C', 'D', 'E', 'F', 'G', 'H', 'I', 'L', 'M', 'N', 'O', 'P', 'R', 'S', 'T', 'V', 'a', 'b', 'c', 'd', 'e', 'f', 'g', 'h', 'i', 'k', 'l', 'm', 'n', 'o', 'p', 'r', 's', 't', 'u', 'w', 'y', 'ä', 'é', 'ë', 'í', 'ö', 'ú']\n",
      "  - char_to_ix: {'b': 22, 'N': 14, 'ú': 47, 'o': 34, 'k': 30, 'A': 3, 'a': 21, 'H': 10, 'ö': 46, 'y': 41, 'R': 17, 'l': 31, 'n': 33, 'C': 5, 'í': 45, 'm': 32, 'V': 20, 'é': 43, 'D': 6, 'G': 9, 'r': 36, '-': 2, 'T': 19, 'c': 23, 'M': 13, 'g': 27, 'P': 16, '*': 1, 'i': 29, 'd': 24, 'F': 8, 'w': 40, 'ä': 42, '#': 0, 't': 38, 'h': 28, 'e': 25, 'S': 18, 'u': 39, 'f': 26, 'O': 15, 'B': 4, 'I': 11, 'p': 35, 'L': 12, 's': 37, 'E': 7, 'ë': 44}\n",
      "  - ix_to_char: {0: '#', 1: '*', 2: '-', 3: 'A', 4: 'B', 5: 'C', 6: 'D', 7: 'E', 8: 'F', 9: 'G', 10: 'H', 11: 'I', 12: 'L', 13: 'M', 14: 'N', 15: 'O', 16: 'P', 17: 'R', 18: 'S', 19: 'T', 20: 'V', 21: 'a', 22: 'b', 23: 'c', 24: 'd', 25: 'e', 26: 'f', 27: 'g', 28: 'h', 29: 'i', 30: 'k', 31: 'l', 32: 'm', 33: 'n', 34: 'o', 35: 'p', 36: 'r', 37: 's', 38: 't', 39: 'u', 40: 'w', 41: 'y', 42: 'ä', 43: 'é', 44: 'ë', 45: 'í', 46: 'ö', 47: 'ú'}\n",
      "######################\n",
      "group: Hobbit\n",
      "  - number of names: 210 (['#Frodo Baggins*', '#Isengrim Took*', '#Isumbras Took*', '#Ferumbras Took*', '#Fortinbras Took*'], ...)\n",
      "  - number of chars: 49\n",
      "  - chars: [' ', '#', '*', '-', 'A', 'B', 'C', 'D', 'E', 'F', 'G', 'H', 'I', 'J', 'L', 'M', 'N', 'O', 'P', 'R', 'S', 'T', 'U', 'W', 'Y', 'a', 'b', 'c', 'd', 'e', 'f', 'g', 'h', 'i', 'k', 'l', 'm', 'n', 'o', 'p', 'r', 's', 't', 'u', 'v', 'w', 'y', 'é', 'í']\n",
      "  - char_to_ix: {'u': 43, 'N': 16, 'o': 38, 'k': 34, 'A': 4, 'a': 25, 'H': 11, 'm': 36, 'R': 19, 'l': 35, 'n': 37, 'B': 5, 'í': 48, 'C': 6, 'é': 47, 'D': 7, 'G': 10, 'r': 40, '-': 3, 'T': 21, 'c': 27, 'M': 15, 'g': 31, 'P': 18, 'w': 45, '*': 2, 'i': 33, 'y': 46, 'd': 28, 'J': 13, 'U': 22, '#': 1, ' ': 0, 't': 42, 'h': 32, 'Y': 24, 'F': 9, 'v': 44, 'e': 29, 'S': 20, 'b': 26, 'f': 30, 'O': 17, 'W': 23, 'I': 12, 'p': 39, 'L': 14, 's': 41, 'E': 8}\n",
      "  - ix_to_char: {0: ' ', 1: '#', 2: '*', 3: '-', 4: 'A', 5: 'B', 6: 'C', 7: 'D', 8: 'E', 9: 'F', 10: 'G', 11: 'H', 12: 'I', 13: 'J', 14: 'L', 15: 'M', 16: 'N', 17: 'O', 18: 'P', 19: 'R', 20: 'S', 21: 'T', 22: 'U', 23: 'W', 24: 'Y', 25: 'a', 26: 'b', 27: 'c', 28: 'd', 29: 'e', 30: 'f', 31: 'g', 32: 'h', 33: 'i', 34: 'k', 35: 'l', 36: 'm', 37: 'n', 38: 'o', 39: 'p', 40: 'r', 41: 's', 42: 't', 43: 'u', 44: 'v', 45: 'w', 46: 'y', 47: 'é', 48: 'í'}\n",
      "######################\n",
      "group: Dwarf\n",
      "  - number of names: 49 (['#Durin*', '#Durin*', '#Náin*', '#Thráin*', '#Thorin*'], ...)\n",
      "  - number of chars: 40\n",
      "  - chars: [' ', '#', '*', 'A', 'B', 'D', 'F', 'G', 'I', 'K', 'L', 'M', 'N', 'O', 'T', 'Z', 'a', 'b', 'c', 'd', 'e', 'f', 'g', 'h', 'i', 'k', 'l', 'm', 'n', 'o', 'r', 's', 'u', 'w', 'z', 'Ó', 'á', 'â', 'í', 'ó']\n",
      "  - char_to_ix: {'u': 32, '*': 2, 'N': 12, 'd': 19, 'F': 6, 'w': 33, 'K': 9, 'o': 29, 'ó': 39, '#': 1, 'k': 25, 'L': 10, 'A': 3, 'a': 16, 'M': 11, 'n': 28, 'm': 27, 'h': 23, 'f': 21, 'g': 22, 'l': 26, 'e': 20, 'â': 37, 'Ó': 35, 'í': 38, 'I': 8, 'b': 17, 'G': 7, 'i': 24, 'D': 5, 'á': 36, 'Z': 15, 'r': 30, 'O': 13, 'B': 4, 'T': 14, 'c': 18, ' ': 0, 's': 31, 'z': 34}\n",
      "  - ix_to_char: {0: ' ', 1: '#', 2: '*', 3: 'A', 4: 'B', 5: 'D', 6: 'F', 7: 'G', 8: 'I', 9: 'K', 10: 'L', 11: 'M', 12: 'N', 13: 'O', 14: 'T', 15: 'Z', 16: 'a', 17: 'b', 18: 'c', 19: 'd', 20: 'e', 21: 'f', 22: 'g', 23: 'h', 24: 'i', 25: 'k', 26: 'l', 27: 'm', 28: 'n', 29: 'o', 30: 'r', 31: 's', 32: 'u', 33: 'w', 34: 'z', 35: 'Ó', 36: 'á', 37: 'â', 38: 'í', 39: 'ó'}\n",
      "######################\n",
      "group: Ainur\n",
      "  - number of names: 38 (['#Manwë*', '#Ulmo*', '#Aulë*', '#Oromë*', '#Mandos*'], ...)\n",
      "  - number of chars: 39\n",
      "  - chars: [' ', '#', '*', 'A', 'E', 'G', 'I', 'L', 'M', 'N', 'O', 'P', 'R', 'S', 'T', 'U', 'V', 'Y', 'a', 'd', 'e', 'f', 'g', 'h', 'i', 'k', 'l', 'm', 'n', 'o', 'r', 's', 't', 'u', 'v', 'w', 'á', 'ë', 'ö']\n",
      "  - char_to_ix: {'n': 28, '*': 2, 'N': 9, 'd': 19, 'U': 15, 's': 31, 'o': 29, '#': 1, 'k': 25, 'v': 34, 'L': 7, 'A': 3, 'a': 18, ' ': 0, 'V': 16, 'm': 27, 'h': 23, 'ö': 38, 'R': 12, 'Y': 17, 'E': 4, 'l': 26, 'e': 20, 'I': 6, 'u': 33, 'f': 21, 'i': 24, 'ë': 37, 'á': 36, 'G': 5, 'r': 30, 't': 32, 'O': 10, 'T': 14, 'M': 8, 'g': 22, 'S': 13, 'w': 35, 'P': 11}\n",
      "  - ix_to_char: {0: ' ', 1: '#', 2: '*', 3: 'A', 4: 'E', 5: 'G', 6: 'I', 7: 'L', 8: 'M', 9: 'N', 10: 'O', 11: 'P', 12: 'R', 13: 'S', 14: 'T', 15: 'U', 16: 'V', 17: 'Y', 18: 'a', 19: 'd', 20: 'e', 21: 'f', 22: 'g', 23: 'h', 24: 'i', 25: 'k', 26: 'l', 27: 'm', 28: 'n', 29: 'o', 30: 'r', 31: 's', 32: 't', 33: 'u', 34: 'v', 35: 'w', 36: 'á', 37: 'ë', 38: 'ö'}\n",
      "######################\n",
      "group: Real\n",
      "  - number of names: 5494 (['#Aaron*', '#Aaron*', '#Abbey*', '#Abbie*', '#Abby*'], ...)\n",
      "  - number of chars: 54\n",
      "  - chars: ['#', '*', 'A', 'B', 'C', 'D', 'E', 'F', 'G', 'H', 'I', 'J', 'K', 'L', 'M', 'N', 'O', 'P', 'Q', 'R', 'S', 'T', 'U', 'V', 'W', 'X', 'Y', 'Z', 'a', 'b', 'c', 'd', 'e', 'f', 'g', 'h', 'i', 'j', 'k', 'l', 'm', 'n', 'o', 'p', 'q', 'r', 's', 't', 'u', 'v', 'w', 'x', 'y', 'z']\n",
      "  - char_to_ix: {'u': 48, 'N': 15, 'K': 12, 'o': 42, 'x': 51, 'k': 38, 'A': 2, 'a': 28, 'H': 9, 'm': 40, 'R': 19, 'l': 39, 'n': 41, 'B': 3, 'q': 44, 'X': 25, 'C': 4, 'V': 23, 'Z': 27, 'D': 5, 'G': 8, 'r': 45, 'T': 21, 'c': 30, 'M': 14, 'g': 34, 'P': 17, 'w': 50, 'z': 53, 'j': 37, '*': 1, 'i': 36, 'y': 52, 'd': 31, 'J': 11, 'U': 22, '#': 0, 't': 47, 'h': 35, 'Y': 26, 'F': 7, 'v': 49, 'e': 32, 'S': 20, 'b': 29, 'f': 33, 'O': 16, 'W': 24, 'I': 10, 'p': 43, 'L': 13, 's': 46, 'E': 6, 'Q': 18}\n",
      "  - ix_to_char: {0: '#', 1: '*', 2: 'A', 3: 'B', 4: 'C', 5: 'D', 6: 'E', 7: 'F', 8: 'G', 9: 'H', 10: 'I', 11: 'J', 12: 'K', 13: 'L', 14: 'M', 15: 'N', 16: 'O', 17: 'P', 18: 'Q', 19: 'R', 20: 'S', 21: 'T', 22: 'U', 23: 'V', 24: 'W', 25: 'X', 26: 'Y', 27: 'Z', 28: 'a', 29: 'b', 30: 'c', 31: 'd', 32: 'e', 33: 'f', 34: 'g', 35: 'h', 36: 'i', 37: 'j', 38: 'k', 39: 'l', 40: 'm', 41: 'n', 42: 'o', 43: 'p', 44: 'q', 45: 'r', 46: 's', 47: 't', 48: 'u', 49: 'v', 50: 'w', 51: 'x', 52: 'y', 53: 'z'}\n",
      "######################\n"
     ]
    }
   ],
   "source": [
    "# Build model input data\n",
    "\n",
    "# Create a data dictionnary\n",
    "data_dict = build_inputs(clean_data)\n",
    "# lotr_data_dict = build_lotr_inputs(lotr_cleaned)\n",
    "# firstnames_data_dict = build_lotr_inputs(firstnames_cleaned)"
   ]
  },
  {
   "cell_type": "code",
   "execution_count": 16,
   "metadata": {},
   "outputs": [],
   "source": [
    "def init_training_data(\n",
    "    target_group, data_dict,\n",
    "    length_of_sequence = 3, verbose = True):\n",
    "    '''\n",
    "    Initialise training data X and Y and some helpers\n",
    "    \n",
    "    ## Inputs:\n",
    "    target_group (string) : key to select names in data_dict (e.g. 'Man', 'Elf', ..., 'Real')\n",
    "    data_dict (dict): dictionary with one entry per group\n",
    "                        Each group entry is a dictionnary with\n",
    "                            - group (string)\n",
    "                            - name_list (list): list of strings\n",
    "                            - char_list (list): list of unique characters included in all names\n",
    "                            - char_to_ix (dict): to transform a character in its corresponding index in char_list\n",
    "                            - ix_to_char (dict): to transform a index in its corresponding character in char_list\n",
    "    length_of_sequence (integer): size of the input sequence of the RNN \n",
    "        To be choosen by the user:\n",
    "            - bigger length means more weights in the RNN, slower training but higher \"memory\" capabilities\n",
    "            - smaller length means easier to train but kind of \"oblivious\" RNN\n",
    "    verbose (boolean): show some feedbacks\n",
    "    ## Outputs:\n",
    "    X (ndarray): shape (m, length_of_sequence, number_of_chars) of boolean data\n",
    "    Y (ndarray): shape (m, number_of_chars) of boolean data\n",
    "    (c2i, i2c): utils dictionnary used to convert character to index of \"one hot vector\" and vice versa\n",
    "    trainset_infos (dict): description of the dataset\n",
    "        - target_group (string): cf Inputs\n",
    "        - length_of_sequence (integer): size of the input sequence for the RNN model\n",
    "        - number_of_chars (integer): number of unique character in the trainset\n",
    "    '''\n",
    "\n",
    "    # Extract target names to list (currently '#name*')\n",
    "    training_names = data_dict[target_group]['name_list'].tolist()\n",
    "    \n",
    "    # Extract padding characters\n",
    "    padding_start = training_names[0][0]\n",
    "    padding_end = training_names[0][-1]\n",
    "\n",
    "    # Extract target character convertors\n",
    "    # This will be used to convert a character to its \"one hot index\" and vice versa (cf Keras to_categorical())\n",
    "    c2i = data_dict[target_group]['char_to_ix']\n",
    "    i2c = data_dict[target_group]['ix_to_char']\n",
    "    \n",
    "    # Extract the target number of characters in all target names\n",
    "    # This will be used to convert character index in its \"one hot\" representation (cf Keras to_categorical())\n",
    "    number_of_chars = len(data_dict[target_group]['char_list'])\n",
    "    \n",
    "    # Pad target names with enough (lengh_of_sequence) padding characters (result '##...##name**...**' )\n",
    "    # The goal is  be sure that, for each name, the first training data is X[0] = '##...##'\n",
    "    # and Y[0] = First actual character of the name\n",
    "    training_names = [\n",
    "        padding_start * (length_of_sequence - 1) + n + padding_end * (length_of_sequence - 1) for n in training_names\n",
    "    ]\n",
    "\n",
    "    # Init X and Y as list\n",
    "    X_list = []\n",
    "    Y_list = []\n",
    "\n",
    "    # Init counter for visual feedback\n",
    "    counter = 0 if verbose else None\n",
    "    \n",
    "    for name in training_names:\n",
    "        # Slide a window on the name, one character at a time\n",
    "        for i in range(max(1, len(name) - length_of_sequence)):\n",
    "            # Extract the new sequence and the character following this sequence\n",
    "            new_sequence = name[i:i + length_of_sequence]\n",
    "            target_char = name[i + length_of_sequence]\n",
    "            \n",
    "            # Add the new sequence to X (input of the model)\n",
    "            X_list.append([to_categorical(c2i[c], number_of_chars) for c in new_sequence])\n",
    "            # Add the following character to Y (target to be predicted by the model)\n",
    "            Y_list.append(to_categorical(c2i[target_char], number_of_chars))\n",
    "\n",
    "        # visual feedback\n",
    "        if verbose:\n",
    "            counter += 1\n",
    "            print(counter) if counter % 100 == 0 else print('.', end='')\n",
    "\n",
    "    # Convert X and Y to numpy array\n",
    "    X = np.array(X_list)\n",
    "    Y = np.array(Y_list)\n",
    "    \n",
    "    # Extract the number of training samples\n",
    "    m = len(X)\n",
    "\n",
    "    print(\n",
    "        '{} names split in {} training sequence of {} encoded chars !'.format(counter, m, length_of_sequence)\n",
    "    ) if verbose else None\n",
    "    \n",
    "    # Create a description of the trainset\n",
    "    trainset_infos = {\n",
    "        'target_group': target_group,\n",
    "        'length_of_sequence': length_of_sequence,\n",
    "        'number_of_chars': number_of_chars,\n",
    "        'm': m,\n",
    "        'padding_start': padding_start,\n",
    "        'padding_end': padding_end,\n",
    "    }\n",
    "\n",
    "    # Visual feedbacks\n",
    "    if verbose:\n",
    "        print('X shape: {}'.format(X.shape))\n",
    "        print('Y shape: {}'.format(Y.shape))\n",
    "\n",
    "        print('X[0] = {}'.format(X[0]))\n",
    "        print('Y[0] = {}'.format(Y[0]))\n",
    "\n",
    "        print('Training set size: {}'.format(m))\n",
    "        print('length_of_sequence: {}'.format(length_of_sequence))\n",
    "        print('number_of_chars: {}'.format(number_of_chars))\n",
    "    \n",
    "    return X, Y, {'c2i': c2i, 'i2c': i2c}, trainset_infos"
   ]
  },
  {
   "cell_type": "code",
   "execution_count": 50,
   "metadata": {},
   "outputs": [
    {
     "name": "stdout",
     "output_type": "stream",
     "text": [
      "...................................................................................................100\n",
      "...........111 names split in 1282 training sequence of 5 encoded chars !\n",
      "X shape: (1282, 5, 48)\n",
      "Y shape: (1282, 48)\n",
      "X[0] = [[1. 0. 0. 0. 0. 0. 0. 0. 0. 0. 0. 0. 0. 0. 0. 0. 0. 0. 0. 0. 0. 0. 0. 0.\n",
      "  0. 0. 0. 0. 0. 0. 0. 0. 0. 0. 0. 0. 0. 0. 0. 0. 0. 0. 0. 0. 0. 0. 0. 0.]\n",
      " [1. 0. 0. 0. 0. 0. 0. 0. 0. 0. 0. 0. 0. 0. 0. 0. 0. 0. 0. 0. 0. 0. 0. 0.\n",
      "  0. 0. 0. 0. 0. 0. 0. 0. 0. 0. 0. 0. 0. 0. 0. 0. 0. 0. 0. 0. 0. 0. 0. 0.]\n",
      " [1. 0. 0. 0. 0. 0. 0. 0. 0. 0. 0. 0. 0. 0. 0. 0. 0. 0. 0. 0. 0. 0. 0. 0.\n",
      "  0. 0. 0. 0. 0. 0. 0. 0. 0. 0. 0. 0. 0. 0. 0. 0. 0. 0. 0. 0. 0. 0. 0. 0.]\n",
      " [1. 0. 0. 0. 0. 0. 0. 0. 0. 0. 0. 0. 0. 0. 0. 0. 0. 0. 0. 0. 0. 0. 0. 0.\n",
      "  0. 0. 0. 0. 0. 0. 0. 0. 0. 0. 0. 0. 0. 0. 0. 0. 0. 0. 0. 0. 0. 0. 0. 0.]\n",
      " [1. 0. 0. 0. 0. 0. 0. 0. 0. 0. 0. 0. 0. 0. 0. 0. 0. 0. 0. 0. 0. 0. 0. 0.\n",
      "  0. 0. 0. 0. 0. 0. 0. 0. 0. 0. 0. 0. 0. 0. 0. 0. 0. 0. 0. 0. 0. 0. 0. 0.]]\n",
      "Y[0] = [0. 0. 0. 1. 0. 0. 0. 0. 0. 0. 0. 0. 0. 0. 0. 0. 0. 0. 0. 0. 0. 0. 0. 0.\n",
      " 0. 0. 0. 0. 0. 0. 0. 0. 0. 0. 0. 0. 0. 0. 0. 0. 0. 0. 0. 0. 0. 0. 0. 0.]\n",
      "Training set size: 1282\n",
      "length_of_sequence: 5\n",
      "number_of_chars: 48\n"
     ]
    }
   ],
   "source": [
    "X, Y, trainset_utils, trainset_infos = init_training_data(\n",
    "    target_group = 'Elf',\n",
    "    data_dict = data_dict,\n",
    "    length_of_sequence = 5,\n",
    ")"
   ]
  },
  {
   "cell_type": "markdown",
   "metadata": {},
   "source": [
    "# CREATE MODEL"
   ]
  },
  {
   "cell_type": "code",
   "execution_count": 48,
   "metadata": {},
   "outputs": [],
   "source": [
    "def create_model(trainset_infos, verbose = True):\n",
    "    '''\n",
    "    Create the Keras RNN model and some helpers\n",
    "    \n",
    "    ## Inputs:\n",
    "    trainset_infos (dict): description of the trainset to be used on the model (cf. init_training_data)\n",
    "        - m (integer): number of \n",
    "        - length_of_sequence (integer): size of an input sample (number of characters)\n",
    "        - number_of_chars (integer): size of the character dictionnary (number of different character in all input samples)\n",
    "    verbose (boolean): show some feedbacks\n",
    "    ## Outputs:\n",
    "    model (keras model):\n",
    "        - Architecture:\n",
    "            * One Input layer taking an undefined batch size of sequences. Each sequence is length_of_sequence long\n",
    "                and each character is encoded in a number_of_chars \"one-hot vector\"\n",
    "            * One LSTM layer with 256 units\n",
    "            * One Dense layer converting 256 to number_of_chars\n",
    "            * One Softmax layer to \n",
    "    training_infos (dict): description of the training session\n",
    "        - total_epochs (integer): total number of epochs used to train the model\n",
    "        - loss (float): up to date loss of the model\n",
    "        - acc (float): up to date accuracy of the model\n",
    "        - trainset_infos (dict): description of the trainset\n",
    "    history (dict): history of the training session\n",
    "        - loss (float array): list of loss by epoch\n",
    "        - acc (float array): list of accuracy by epoch\n",
    "        - hyperparams (list): Infos regarding hyperparams\n",
    "            format: (epoch, hyperparams_dict)\n",
    "    '''\n",
    "    m = trainset_infos['m']\n",
    "    length_of_sequence = trainset_infos['length_of_sequence']\n",
    "    number_of_chars = trainset_infos['number_of_chars']\n",
    "    \n",
    "    X_input = Input(shape=(length_of_sequence, number_of_chars))\n",
    "    \n",
    "    #X = SimpleRNN(units=number_of_chars)(X_input)\n",
    "    X = LSTM(units=256)(X_input)\n",
    "    X = Dense(units=number_of_chars)(X)\n",
    "    \n",
    "    Output = Activation('softmax')(X)\n",
    "    \n",
    "    model = Model(inputs=X_input, outputs=Output)\n",
    "    training_infos = {\n",
    "        'total_epochs': 0,\n",
    "        'loss': 0,\n",
    "        'acc': 0,\n",
    "        'trainset_infos': trainset_infos,\n",
    "    }\n",
    "    history = {\n",
    "        'loss': np.array([]),\n",
    "        'acc': np.array([]),\n",
    "        'hyperparams': []\n",
    "    }\n",
    "    model.summary()\n",
    "    return model, training_infos, history"
   ]
  },
  {
   "cell_type": "code",
   "execution_count": 51,
   "metadata": {
    "scrolled": false
   },
   "outputs": [
    {
     "name": "stdout",
     "output_type": "stream",
     "text": [
      "_________________________________________________________________\n",
      "Layer (type)                 Output Shape              Param #   \n",
      "=================================================================\n",
      "input_2 (InputLayer)         (None, 5, 48)             0         \n",
      "_________________________________________________________________\n",
      "lstm_2 (LSTM)                (None, 256)               312320    \n",
      "_________________________________________________________________\n",
      "dense_2 (Dense)              (None, 48)                12336     \n",
      "_________________________________________________________________\n",
      "activation_2 (Activation)    (None, 48)                0         \n",
      "=================================================================\n",
      "Total params: 324,656\n",
      "Trainable params: 324,656\n",
      "Non-trainable params: 0\n",
      "_________________________________________________________________\n"
     ]
    }
   ],
   "source": [
    "current_model, training_infos, history = create_model(trainset_infos = trainset_infos)"
   ]
  },
  {
   "cell_type": "markdown",
   "metadata": {},
   "source": [
    "# TRAIN MODEL"
   ]
  },
  {
   "cell_type": "code",
   "execution_count": 52,
   "metadata": {},
   "outputs": [],
   "source": [
    "def compile_model(model, hyperparams, history, verbose=True):\n",
    "    '''\n",
    "    Compile the Keras model with new hyperparams on Adam optimizer and save this hyperparams in history\n",
    "    \n",
    "    ## Inputs:\n",
    "    model (Keras model): Keras RNN model\n",
    "    hyperparams (dict): List of hyperparams\n",
    "        - lr (float): learning rate\n",
    "        - loss (string): loss function\n",
    "        - batch_size (int): batch size\n",
    "    verbose (boolean): show some feedbacks\n",
    "    ## Outputs:\n",
    "    None\n",
    "    '''\n",
    "    optimizer = Adam(lr=hyperparams['lr'])\n",
    "\n",
    "    model.compile(loss=hyperparams['loss'], optimizer=optimizer, metrics = [\"accuracy\"])\n",
    "\n",
    "    history['hyperparams'].append((training_infos['total_epochs'], hyperparams))\n",
    "    \n",
    "    print(history['hyperparams']) if verbose else None\n",
    "    \n",
    "    return None"
   ]
  },
  {
   "cell_type": "code",
   "execution_count": 53,
   "metadata": {},
   "outputs": [
    {
     "name": "stdout",
     "output_type": "stream",
     "text": [
      "[(0, {'batch_size': 32, 'lr': 0.0003, 'loss': 'categorical_crossentropy'})]\n"
     ]
    }
   ],
   "source": [
    "compile_model(\n",
    "    model = current_model,\n",
    "    hyperparams = {\n",
    "        'lr': 0.0003,                       # default 0.0003\n",
    "        'loss': 'categorical_crossentropy', # default 'categorical_crossentropy'\n",
    "        'batch_size': 32,                   # default 32\n",
    "    },\n",
    "    history = history\n",
    ")"
   ]
  },
  {
   "cell_type": "code",
   "execution_count": 54,
   "metadata": {},
   "outputs": [],
   "source": [
    "def train_model(model, X, Y, training_infos, history, epochs_to_add = 10, verbose = True):\n",
    "    '''\n",
    "    Train the Keras model then update training session info and history\n",
    "    \n",
    "    ## Inputs:\n",
    "    model (Keras model): Keras RNN model\n",
    "    X (ndarray): Input of the training. List of sequences of encoded characters.\n",
    "        Numpy array of shape (m, length_of_sequence, number_of_chars)\n",
    "    Y (ndarray): Ouput to be predicted. List of encoded character expected the corresponding input sequence.\n",
    "        Numpy array of shape (m, number_of_chars)\n",
    "    training_infos (dict): Info of the training session\n",
    "        - total_epochs (integer): total number of epochs used to train the model\n",
    "        - loss (float): up to date loss of the model\n",
    "        - acc (float): up to date accuracy of the model\n",
    "    history (dict): history of the training session\n",
    "        - loss (float array): list of loss by epoch\n",
    "        - acc (float array): list of accuracy by epoch\n",
    "        - hyperparams (list): Infos regarding hyperparams\n",
    "            format: (epoch, hyperparams_dict)\n",
    "    verbose (boolean): show some feedbacks\n",
    "    ## Outputs:\n",
    "    None\n",
    "    '''\n",
    "    # Extract previous loss and accuracy to give feedback at the end of the session\n",
    "    old_loss = training_infos['loss']\n",
    "    old_acc = training_infos['acc']\n",
    "    \n",
    "    # Extract hyperparams to fit the model\n",
    "    hyperparams = history['hyperparams'][-1][1]\n",
    "    \n",
    "    # Train the model\n",
    "    h = model.fit(\n",
    "        X, Y,\n",
    "        batch_size=hyperparams['batch_size'],\n",
    "        initial_epoch=training_infos['total_epochs'],\n",
    "        epochs = training_infos['total_epochs'] + epochs_to_add\n",
    "    )\n",
    "\n",
    "\n",
    "    # Update history\n",
    "    for key, val in h.history.items():\n",
    "        history[key] = np.append(history[key], val)\n",
    "    \n",
    "    # Update the training session info\n",
    "    training_infos['total_epochs'] += epochs_to_add\n",
    "    training_infos['loss'] = history['loss'][-1]\n",
    "    training_infos['acc' ] = history['acc' ][-1]\n",
    "    \n",
    "    if verbose:\n",
    "        print('new loss: {:.5f} ({:.5f})'.format(training_infos['loss'], training_infos['loss'] - old_loss))\n",
    "        print('new acc : {:.5f} ({:.5f})'.format(training_infos['acc'], training_infos['acc'] - old_acc))\n",
    "        print('history size: {}'.format(len(history['loss'])))\n",
    "\n",
    "    return None"
   ]
  },
  {
   "cell_type": "code",
   "execution_count": 56,
   "metadata": {
    "scrolled": true
   },
   "outputs": [
    {
     "name": "stdout",
     "output_type": "stream",
     "text": [
      "Epoch 11/30\n",
      "1282/1282 [==============================] - 2s 1ms/step - loss: 1.8268 - acc: 0.5047\n",
      "Epoch 12/30\n",
      "1282/1282 [==============================] - 2s 1ms/step - loss: 1.8148 - acc: 0.4938\n",
      "Epoch 13/30\n",
      "1282/1282 [==============================] - 2s 1ms/step - loss: 1.7888 - acc: 0.5187\n",
      "Epoch 14/30\n",
      "1282/1282 [==============================] - 2s 1ms/step - loss: 1.7726 - acc: 0.4938\n",
      "Epoch 15/30\n",
      "1282/1282 [==============================] - 2s 2ms/step - loss: 1.7525 - acc: 0.5421\n",
      "Epoch 16/30\n",
      "1282/1282 [==============================] - 2s 1ms/step - loss: 1.7525 - acc: 0.5086\n",
      "Epoch 17/30\n",
      "1282/1282 [==============================] - 2s 1ms/step - loss: 1.7174 - acc: 0.5624\n",
      "Epoch 18/30\n",
      "1282/1282 [==============================] - 2s 1ms/step - loss: 1.7030 - acc: 0.5320\n",
      "Epoch 19/30\n",
      "1282/1282 [==============================] - 2s 1ms/step - loss: 1.6871 - acc: 0.5593\n",
      "Epoch 20/30\n",
      "1282/1282 [==============================] - 2s 1ms/step - loss: 1.6778 - acc: 0.5460\n",
      "Epoch 21/30\n",
      "1282/1282 [==============================] - 2s 1ms/step - loss: 1.6628 - acc: 0.5452\n",
      "Epoch 22/30\n",
      "1282/1282 [==============================] - 2s 1ms/step - loss: 1.6396 - acc: 0.5569\n",
      "Epoch 23/30\n",
      "1282/1282 [==============================] - 2s 1ms/step - loss: 1.6234 - acc: 0.5733\n",
      "Epoch 24/30\n",
      "1282/1282 [==============================] - 2s 1ms/step - loss: 1.6069 - acc: 0.5484\n",
      "Epoch 25/30\n",
      "1282/1282 [==============================] - 2s 1ms/step - loss: 1.5822 - acc: 0.5702\n",
      "Epoch 26/30\n",
      "1282/1282 [==============================] - 2s 1ms/step - loss: 1.5732 - acc: 0.5733\n",
      "Epoch 27/30\n",
      "1282/1282 [==============================] - 2s 1ms/step - loss: 1.5614 - acc: 0.5803\n",
      "Epoch 28/30\n",
      "1282/1282 [==============================] - 2s 1ms/step - loss: 1.5361 - acc: 0.5928\n",
      "Epoch 29/30\n",
      "1282/1282 [==============================] - 2s 1ms/step - loss: 1.5181 - acc: 0.5920\n",
      "Epoch 30/30\n",
      "1282/1282 [==============================] - 2s 1ms/step - loss: 1.5017 - acc: 0.5944\n",
      "new loss: 1.50168 (-0.34322)\n",
      "new acc : 0.59438 (0.11934)\n",
      "history size: 30\n"
     ]
    }
   ],
   "source": [
    "train_model(current_model, X, Y, training_infos, history, epochs_to_add = 20, verbose = True)"
   ]
  },
  {
   "cell_type": "code",
   "execution_count": 57,
   "metadata": {},
   "outputs": [],
   "source": [
    "def generate_name(\n",
    "    model, trainset_infos, trainset_utils,\n",
    "    name_max_length = 25,\n",
    "    verbose=False\n",
    "):\n",
    "    '''\n",
    "    Generate some name with the RNN model\n",
    "    \n",
    "    ## Inputs:\n",
    "    model (Keras model): \n",
    "    trainset_infos (dict): description of the dataset\n",
    "        - target_group (string): cf Inputs\n",
    "        - length_of_sequence (integer): size of the input sequence for the RNN model\n",
    "        - number_of_chars (integer): number of unique character in the trainset\n",
    "    trainset_utils (dict): utils dictionnary used to convert character to index of \"one hot vector\" and vice versa\n",
    "        - c2i (dict): character to index\n",
    "        - i2c (dict): index to character\n",
    "    name_max_length (integer): max size of the generated name\n",
    "    verbose (boolean): show some feedbacks\n",
    "    ## Outputs:\n",
    "    generated_name (string): name generated by the RNN\n",
    "    (probability, gap): few numbers about this generated name\n",
    "        probability: probability to generate this name (cummulative probability to select each character)\n",
    "        ecart: gap between best name and this name (cummulative sum of gaps between selected character and best character)\n",
    "        \n",
    "    '''\n",
    "    # Extract the number of unique character in trainset\n",
    "    dict_size = trainset_infos['number_of_chars']\n",
    "    \n",
    "    # Extract the size of an input sequence\n",
    "    sequence_length = trainset_infos['length_of_sequence']\n",
    "    \n",
    "    # Extract utils dictionnary to convert character to one hot index and vice versa\n",
    "    i2c = trainset_utils['i2c']\n",
    "    c2i = trainset_utils['c2i']\n",
    "    \n",
    "    # Extract padding character\n",
    "    padding_start = trainset_infos['padding_start']\n",
    "    \n",
    "    # Init a name full of padding_start character\n",
    "    generated_name = padding_start * (sequence_length + name_max_length)\n",
    "\n",
    "    # Init counters\n",
    "    probability = 1\n",
    "    gap = 0\n",
    "    \n",
    "    # Generate new character from current sequence\n",
    "    for i in range(name_max_length):\n",
    "        # Extract current sequence from generated character\n",
    "        x_char = generated_name[i:i+sequence_length]\n",
    "        \n",
    "        # Convert current sequence to one hot vector\n",
    "        x_cat = np.array([[to_categorical(c2i[c], dict_size) for c in x_char]])\n",
    "        \n",
    "        # Predict new character probabilities\n",
    "        # Actually this output a list of probabilities for each character\n",
    "        p = model.predict(x_cat)\n",
    "\n",
    "        # Extract the best character (and its probability)\n",
    "        best_char = i2c[np.argmax(p)]\n",
    "        best_char_prob = np.max(p)\n",
    "\n",
    "        # Choose a random character index according to their probabilities (and its probability)\n",
    "        new_char_index = np.random.choice(range(dict_size), p = p.ravel())\n",
    "        new_char_prob = p[0][new_char_index]\n",
    "        \n",
    "        # Convert the index to an actual character\n",
    "        new_char = i2c[new_char_index]\n",
    "                \n",
    "        # Update the generated name with the new character\n",
    "        generated_name = generated_name[:sequence_length+i] + new_char + generated_name[sequence_length+i+1:]\n",
    "        \n",
    "        # Update counters\n",
    "        probability *= new_char_prob # probabilities are multiplied\n",
    "        gap += best_char_prob-new_char_prob # gaps are summed\n",
    "\n",
    "        # Show some feedbacks\n",
    "        if verbose:\n",
    "            print(\n",
    "                'i={} new_char: {} ({:.3f}) [best:  {} ({:.3f}), diff: {:.3f}, prob: {:.3f}, gap: {:.3f}]'.format(\n",
    "                    i,\n",
    "                    new_char,\n",
    "                    new_char_prob,\n",
    "                    best_char,\n",
    "                    best_char_prob,\n",
    "                    best_char_prob-new_char_prob,\n",
    "                    probability,\n",
    "                    gap\n",
    "                )\n",
    "            )\n",
    "\n",
    "        # Stop the prediction loop if it reached a 'padding_end' character\n",
    "        if (new_char == trainset_infos['padding_end']):\n",
    "            break\n",
    "    \n",
    "    # Clean the generated name\n",
    "    generated_name = generated_name.strip('#*')\n",
    "    \n",
    "    # Show some feedbacks\n",
    "    print('{} (probs: {:.6f}, gap: {:.6f})'.format(generated_name, probability, gap)) if verbose else None\n",
    "\n",
    "    return generated_name, {'probability': probability, 'gap': gap}"
   ]
  },
  {
   "cell_type": "code",
   "execution_count": 58,
   "metadata": {},
   "outputs": [],
   "source": [
    "def plot_training_session(training_infos, history, verbose=True):\n",
    "    '''\n",
    "    Plot some graphs about history\n",
    "    \n",
    "    ## Inputs:\n",
    "    training_infos (dict): Info of the training session\n",
    "        - total_epochs (integer): total number of epochs used to train the model\n",
    "        - loss (float): up to date loss of the model\n",
    "        - acc (float): up to date accuracy of the model\n",
    "    history (dict): history of the training session\n",
    "        - loss (float array): list of loss by epoch\n",
    "        - acc (float array): list of accuracy by epoch\n",
    "        - hyperparams (list): Infos regarding hyperparams\n",
    "            format: (epoch, hyperparams_dict)\n",
    "    verbose (boolean): show some feedbacks\n",
    "    ## Outputs:\n",
    "    None\n",
    "    '''\n",
    "    # Plot full history loss\n",
    "    plt.plot(range(len(history['loss'])), history['loss'])\n",
    "    \n",
    "    # Plot loss on last n epochs\n",
    "    plt.figure()\n",
    "    last_n = min(10,len(history['loss']))\n",
    "    plt.plot(range(last_n), history['loss'][-last_n:])\n",
    "    \n",
    "    if verbose:\n",
    "        # Print training session infos\n",
    "        print('training_infos: {}'.format(json.dumps(training_infos, indent=2)))\n",
    "        \n",
    "        # Print evolution of hyperparams\n",
    "        print('history: {}'.format(json.dumps(history['hyperparams'], indent=2)))\n",
    "        \n",
    "    return None"
   ]
  },
  {
   "cell_type": "code",
   "execution_count": 59,
   "metadata": {
    "scrolled": false
   },
   "outputs": [
    {
     "name": "stdout",
     "output_type": "stream",
     "text": [
      "training_infos: {\n",
      "  \"total_epochs\": 30,\n",
      "  \"trainset_infos\": {\n",
      "    \"number_of_chars\": 48,\n",
      "    \"length_of_sequence\": 5,\n",
      "    \"padding_end\": \"*\",\n",
      "    \"target_group\": \"Elf\",\n",
      "    \"m\": 1282,\n",
      "    \"padding_start\": \"#\"\n",
      "  },\n",
      "  \"acc\": 0.594383775351014,\n",
      "  \"loss\": 1.5016759118870155\n",
      "}\n",
      "history: [\n",
      "  [\n",
      "    0,\n",
      "    {\n",
      "      \"batch_size\": 32,\n",
      "      \"lr\": 0.0003,\n",
      "      \"loss\": \"categorical_crossentropy\"\n",
      "    }\n",
      "  ]\n",
      "]\n",
      "current samples: [('elledrr', {'gap': 0.7349125556647778, 'probability': 6.326630946763526e-09}), ('MMgaods', {'gap': 0.7320360317826271, 'probability': 2.2022603298614177e-09}), ('Aanah', {'gap': 0.16830095276236534, 'probability': 1.386927942702099e-06})]\n"
     ]
    },
    {
     "data": {
      "image/png": "[encoded data removed]",
      "text/plain": [
       "<Figure size 432x288 with 1 Axes>"
      ]
     },
     "metadata": {},
     "output_type": "display_data"
    },
    {
     "data": {
      "image/png": "[encoded data removed]",
      "text/plain": [
       "<Figure size 432x288 with 1 Axes>"
      ]
     },
     "metadata": {},
     "output_type": "display_data"
    }
   ],
   "source": [
    "# Plot loss history\n",
    "plot_training_session(training_infos, history)\n",
    "\n",
    "# Print some sample of generated names\n",
    "samples = []\n",
    "for i in range(3):\n",
    "    samples.append(generate_name(\n",
    "        model=current_model,\n",
    "        trainset_infos=trainset_infos,\n",
    "#         sequence_length=trainset_infos['length_of_sequence'],\n",
    "        trainset_utils=trainset_utils,\n",
    "#         padding_start=padding_start,\n",
    "#         padding_end=padding_end,\n",
    "        name_max_length=25,\n",
    "        verbose=False))\n",
    "print('current samples: {}'.format(samples))"
   ]
  },
  {
   "cell_type": "markdown",
   "metadata": {},
   "source": [
    "# PLAY with MODEL"
   ]
  },
  {
   "cell_type": "code",
   "execution_count": 63,
   "metadata": {
    "scrolled": false
   },
   "outputs": [
    {
     "name": "stdout",
     "output_type": "stream",
     "text": [
      "i=0 new_char: m (0.031) [best:  E (0.108), diff: 0.077, prob: 0.031, gap: 0.077]\n",
      "i=1 new_char: M (0.021) [best:  r (0.098), diff: 0.077, prob: 0.001, gap: 0.154]\n",
      "i=2 new_char: l (0.103) [best:  a (0.189), diff: 0.086, prob: 0.000, gap: 0.240]\n",
      "i=3 new_char: d (0.056) [best:  a (0.166), diff: 0.110, prob: 0.000, gap: 0.350]\n",
      "i=4 new_char: o (0.114) [best:  i (0.130), diff: 0.016, prob: 0.000, gap: 0.365]\n",
      "i=5 new_char: a (0.050) [best:  r (0.241), diff: 0.191, prob: 0.000, gap: 0.556]\n",
      "i=6 new_char: n (0.140) [best:  r (0.159), diff: 0.019, prob: 0.000, gap: 0.575]\n",
      "i=7 new_char: * (0.898) [best:  * (0.898), diff: 0.000, prob: 0.000, gap: 0.575]\n",
      "mMldoan (probs: 0.000000, gap: 0.575273)\n"
     ]
    }
   ],
   "source": [
    "new_name = generate_name(\n",
    "    model=current_model,\n",
    "    trainset_infos=trainset_infos,\n",
    "    trainset_utils=trainset_utils,\n",
    "    name_max_length=25,\n",
    "    verbose=True)"
   ]
  },
  {
   "cell_type": "markdown",
   "metadata": {},
   "source": [
    "# BACKUP et RESTORE"
   ]
  },
  {
   "cell_type": "code",
   "execution_count": 68,
   "metadata": {},
   "outputs": [
    {
     "name": "stdout",
     "output_type": "stream",
     "text": [
      "../data/temp/20180529-1146_Elf_1.5017_model_infos.txt\n"
     ]
    }
   ],
   "source": [
    "directory='../data/temp/'\n",
    "now = datetime.datetime.now()\n",
    "prefix = now.strftime(\"%Y%m%d-%H%M\") + '_'\n",
    "desc = '{}_{:.4f}_'.format(trainset_infos['target_group'], training_infos['loss'])\n",
    "model_infos_target = directory + prefix + desc + \"model_infos.txt\"\n",
    "print(model_infos_target)"
   ]
  },
  {
   "cell_type": "code",
   "execution_count": 86,
   "metadata": {},
   "outputs": [],
   "source": [
    "def backup_model_to_disk(\n",
    "    model,\n",
    "    trainset_infos,\n",
    "    trainset_utils,\n",
    "    training_infos,\n",
    "    history,\n",
    "    directory='../data/temp/'\n",
    "):\n",
    "    '''\n",
    "    Backup model to disk\n",
    "    \n",
    "    ## Inputs:\n",
    "    model (Keras model): model to backup\n",
    "    directory (string): path to backup directory\n",
    "    ## Outputs:\n",
    "    %Y%m%d-%H%M_model_infos.txt (txt file): \n",
    "    %Y%m%d-%H%M_model.json (json file):\n",
    "    %Y%m%d-%H%M_model_weights.h5 (h5 file):\n",
    "    '''\n",
    "    # File Naming format\n",
    "    now = datetime.datetime.now()\n",
    "    prefix = now.strftime(\"%Y%m%d-%H%M\") + '_'\n",
    "    \n",
    "    # Init list of saved files\n",
    "    saved_files = []\n",
    "\n",
    "    # Model summary to txt\n",
    "    desc = '{}_{:.4f}_'.format(trainset_infos['target_group'], training_infos['loss'])\n",
    "    model_infos_target = directory + prefix + desc + \"model_infos.txt\"\n",
    "    with open(model_infos_target, \"w\") as text_file:\n",
    "        text_file.write('training_infos:\\n')\n",
    "        text_file.write(json.dumps(training_infos, indent=4) + '\\n')\n",
    "        text_file.write('history[\"hyperparams\"]:\\n')\n",
    "        text_file.write(json.dumps(history[\"hyperparams\"], indent=4) + '\\n')\n",
    "        model.summary(print_fn=lambda line: text_file.write(line + '\\n'))\n",
    "    saved_files.append(model_infos_target)\n",
    "    print(\"Saved model to disk {}\".format(model_infos_target))\n",
    "\n",
    "    # serialize model to JSON\n",
    "    model_json_target = directory + prefix + \"model.json\"\n",
    "    model_json = model.to_json()\n",
    "    with open(model_json_target, \"w\") as json_file:\n",
    "        json_file.write(model_json)\n",
    "    saved_files.append(model_json_target)\n",
    "    print(\"Saved model to disk {}\".format(model_json_target))\n",
    "\n",
    "    # serialize weights to HDF5\n",
    "    model_weights_target = directory + prefix + \"model_weights.h5\"\n",
    "    model.save_weights(model_weights_target)\n",
    "    saved_files.append(model_weights_target)\n",
    "    print(\"Saved model to disk {}\".format(model_weights_target))\n",
    "    \n",
    "    # serialize trainset_infos to disk\n",
    "    trainset_infos_target = directory + prefix + \"trainset_infos.pkl\"\n",
    "    with open(trainset_infos_target, \"wb\") as pkl_file:\n",
    "        pickle.dump(trainset_infos, pkl_file, pickle.HIGHEST_PROTOCOL)\n",
    "    saved_files.append(trainset_infos_target)\n",
    "    print(\"Saved model to disk {}\".format(trainset_infos_target))\n",
    "    \n",
    "    # serialize trainset_utils to disk\n",
    "    trainset_utils_target = directory + prefix + \"trainset_utils.pkl\"\n",
    "    with open(trainset_utils_target, \"wb\") as pkl_file:\n",
    "        pickle.dump(trainset_utils, pkl_file, pickle.HIGHEST_PROTOCOL)\n",
    "    saved_files.append(trainset_utils_target)\n",
    "    print(\"Saved model to disk {}\".format(trainset_utils_target))\n",
    "    \n",
    "    # serialize training_infos to disk\n",
    "    training_infos_target = directory + prefix + \"training_infos.pkl\"\n",
    "    with open(training_infos_target, \"wb\") as pkl_file:\n",
    "        pickle.dump(training_infos, pkl_file, pickle.HIGHEST_PROTOCOL)\n",
    "    saved_files.append(training_infos_target)\n",
    "    print(\"Saved model to disk {}\".format(training_infos_target))\n",
    "    \n",
    "    # serialize history to disk\n",
    "    history_target = directory + prefix + \"history.pkl\"\n",
    "    with open(history_target, \"wb\") as pkl_file:\n",
    "        pickle.dump(history, pkl_file, pickle.HIGHEST_PROTOCOL)\n",
    "    saved_files.append(history_target)\n",
    "    print(\"Saved model to disk {}\".format(history_target))\n",
    "    \n",
    "    return (saved_files)"
   ]
  },
  {
   "cell_type": "code",
   "execution_count": 87,
   "metadata": {},
   "outputs": [
    {
     "name": "stdout",
     "output_type": "stream",
     "text": [
      "Saved model to disk ../data/temp/20180529-1202_Elf_1.5017_model_infos.txt\n",
      "Saved model to disk ../data/temp/20180529-1202_model.json\n",
      "Saved model to disk ../data/temp/20180529-1202_model_weights.h5\n",
      "Saved model to disk ../data/temp/20180529-1202_trainset_infos.pkl\n",
      "Saved model to disk ../data/temp/20180529-1202_trainset_utils.pkl\n",
      "Saved model to disk ../data/temp/20180529-1202_training_infos.pkl\n",
      "Saved model to disk ../data/temp/20180529-1202_history.pkl\n"
     ]
    },
    {
     "data": {
      "text/plain": [
       "['../data/temp/20180529-1202_Elf_1.5017_model_infos.txt',\n",
       " '../data/temp/20180529-1202_model.json',\n",
       " '../data/temp/20180529-1202_model_weights.h5',\n",
       " '../data/temp/20180529-1202_trainset_infos.pkl',\n",
       " '../data/temp/20180529-1202_trainset_utils.pkl',\n",
       " '../data/temp/20180529-1202_training_infos.pkl',\n",
       " '../data/temp/20180529-1202_history.pkl']"
      ]
     },
     "execution_count": 87,
     "metadata": {},
     "output_type": "execute_result"
    }
   ],
   "source": [
    "# Model Backup\n",
    "backup_model_to_disk(\n",
    "    model=current_model,\n",
    "    trainset_infos=trainset_infos,\n",
    "    trainset_utils=trainset_utils,\n",
    "    training_infos=training_infos,\n",
    "    history=history\n",
    ")"
   ]
  },
  {
   "cell_type": "code",
   "execution_count": 92,
   "metadata": {},
   "outputs": [],
   "source": [
    "def load_model_from_disk(date='AAAAMMDD-HHMM', directory='../data/temp/'):\n",
    "    '''\n",
    "    Restore model from disk\n",
    "    \n",
    "    ## Inputs:\n",
    "    model (Keras model): model to backup\n",
    "    directory (string): path to backup directory\n",
    "    ## Outputs:\n",
    "    %Y%m%d-%H%M_model_infos.txt (txt file): \n",
    "    %Y%m%d-%H%M_model.json (json file):\n",
    "    %Y%m%d-%H%M_model_weights.h5 (h5 file):\n",
    "    '''\n",
    "    prefix = date + '_' # a compléter\n",
    "\n",
    "    # load json and create model\n",
    "    json_file = open(directory + prefix + 'model.json', 'r')\n",
    "    loaded_model_json = json_file.read()\n",
    "    json_file.close()\n",
    "    loaded_model = model_from_json(loaded_model_json)\n",
    "\n",
    "    # load weights into new model\n",
    "    loaded_model.load_weights(directory + prefix + \"model_weights.h5\")\n",
    "    \n",
    "    # load trainset_infos\n",
    "    loaded_trainset_infos = pickle.load( open( directory + prefix + \"trainset_infos.pkl\", \"rb\" ) )\n",
    "    # load trainset_utils\n",
    "    trainset_utils_infos = pickle.load( open( directory + prefix + \"trainset_utils.pkl\", \"rb\" ) )\n",
    "    # load training_infos\n",
    "    loaded_training_infos = pickle.load( open( directory + prefix + \"training_infos.pkl\", \"rb\" ) )\n",
    "    # load history\n",
    "    loaded_history = pickle.load( open( directory + prefix + \"history.pkl\", \"rb\" ) )\n",
    "    \n",
    "#     # load model infos\n",
    "#     infos_file = open(directory + prefix + 'model_infos.txt', 'r')\n",
    "#     model_info_txt = infos_file.read()\n",
    "#     infos_file.close()\n",
    "#     print('model_info_txt:')\n",
    "#     print(model_info_txt)\n",
    "\n",
    "    print(\"Loaded model from disk: \")\n",
    "    loaded_model.summary()\n",
    "    \n",
    "    print(\"Loaded trainset_infos: \")\n",
    "    print('target group: {}, length of sequence: {}, number of chars: {}'.format(\n",
    "        loaded_trainset_infos['target_group'],\n",
    "        loaded_trainset_infos['length_of_sequence'],\n",
    "        loaded_trainset_infos['number_of_chars']\n",
    "    ))\n",
    "    print(\"Loaded training_infos: \")\n",
    "    print('total epochs: {}, loss: {}, acc: {}'.format(\n",
    "        loaded_training_infos['total_epochs'],\n",
    "        loaded_training_infos['loss'],\n",
    "        loaded_training_infos['acc']\n",
    "    ))\n",
    "    \n",
    "    return (\n",
    "        loaded_model,\n",
    "        loaded_model_json,\n",
    "        loaded_trainset_infos,\n",
    "        trainset_utils_infos,\n",
    "        loaded_training_infos,\n",
    "        loaded_history\n",
    "    )"
   ]
  },
  {
   "cell_type": "code",
   "execution_count": 102,
   "metadata": {},
   "outputs": [
    {
     "name": "stdout",
     "output_type": "stream",
     "text": [
      "Loaded model from disk: \n",
      "_________________________________________________________________\n",
      "Layer (type)                 Output Shape              Param #   \n",
      "=================================================================\n",
      "input_2 (InputLayer)         (None, 5, 48)             0         \n",
      "_________________________________________________________________\n",
      "lstm_2 (LSTM)                (None, 256)               312320    \n",
      "_________________________________________________________________\n",
      "dense_2 (Dense)              (None, 48)                12336     \n",
      "_________________________________________________________________\n",
      "activation_2 (Activation)    (None, 48)                0         \n",
      "=================================================================\n",
      "Total params: 324,656\n",
      "Trainable params: 324,656\n",
      "Non-trainable params: 0\n",
      "_________________________________________________________________\n",
      "Loaded trainset_infos: \n",
      "target group: Elf, length of sequence: 5, number of chars: 48\n",
      "Loaded training_infos: \n",
      "total epochs: 30, loss: 1.5016759118870155, acc: 0.594383775351014\n",
      "\n",
      "## model fully loaded ! \n",
      "\n",
      "\n",
      "\n",
      "## Plot training history :\n",
      "training_infos: {\n",
      "  \"number_of_chars\": 48,\n",
      "  \"length_of_sequence\": 5,\n",
      "  \"padding_end\": \"*\",\n",
      "  \"target_group\": \"Elf\",\n",
      "  \"m\": 1282,\n",
      "  \"padding_start\": \"#\"\n",
      "}\n",
      "history: [\n",
      "  [\n",
      "    0,\n",
      "    {\n",
      "      \"batch_size\": 32,\n",
      "      \"loss\": \"categorical_crossentropy\",\n",
      "      \"lr\": 0.0003\n",
      "    }\n",
      "  ]\n",
      "]\n",
      "\n",
      "## Generate sample name :\n",
      "i=0 new_char: T (0.026) [best:  E (0.108), diff: 0.083, prob: 0.026, gap: 0.083]\n",
      "i=1 new_char: S (0.005) [best:  a (0.130), diff: 0.125, prob: 0.000, gap: 0.208]\n",
      "i=2 new_char: i (0.066) [best:  a (0.240), diff: 0.173, prob: 0.000, gap: 0.381]\n",
      "i=3 new_char: s (0.009) [best:  n (0.216), diff: 0.207, prob: 0.000, gap: 0.588]\n",
      "i=4 new_char: n (0.112) [best:  o (0.140), diff: 0.027, prob: 0.000, gap: 0.615]\n",
      "i=5 new_char: * (0.602) [best:  * (0.602), diff: 0.000, prob: 0.000, gap: 0.615]\n",
      "TSisn (probs: 0.000000, gap: 0.615054)\n"
     ]
    },
    {
     "data": {
      "text/plain": [
       "('TSisn', {'gap': 0.6150539293885231, 'probability': 5.94812642192022e-09})"
      ]
     },
     "execution_count": 102,
     "metadata": {},
     "output_type": "execute_result"
    },
    {
     "data": {
      "image/png": "[encoded data removed]",
      "text/plain": [
       "<Figure size 432x288 with 1 Axes>"
      ]
     },
     "metadata": {},
     "output_type": "display_data"
    },
    {
     "data": {
      "image/png": "[encoded data removed]",
      "text/plain": [
       "<Figure size 432x288 with 1 Axes>"
      ]
     },
     "metadata": {},
     "output_type": "display_data"
    }
   ],
   "source": [
    "# Model restore\n",
    "loaded_model, loaded_model_json, loaded_trainset_infos, trainset_utils_infos, loaded_training_infos, loaded_history = load_model_from_disk(date='20180529-1202')\n",
    "print('\\n## model fully loaded ! \\n\\n')\n",
    "\n",
    "print('\\n## Plot training history :')\n",
    "plot_training_session(loaded_trainset_infos, loaded_history)\n",
    "\n",
    "print('\\n## Generate sample name :')\n",
    "generate_name(model=loaded_model, trainset_infos=loaded_trainset_infos, trainset_utils=trainset_utils_infos, name_max_length=25, verbose=True)"
   ]
  },
  {
   "cell_type": "code",
   "execution_count": 44,
   "metadata": {},
   "outputs": [
    {
     "name": "stdout",
     "output_type": "stream",
     "text": [
      "...................................................................................................100\n",
      "...................................................................................................200\n",
      "..........210 names split in 3920 training sequence of 5 encoded chars !\n",
      "X shape: (3920, 5, 49)\n",
      "Y shape: (3920, 49)\n",
      "X[0] = [[0. 1. 0. 0. 0. 0. 0. 0. 0. 0. 0. 0. 0. 0. 0. 0. 0. 0. 0. 0. 0. 0. 0. 0.\n",
      "  0. 0. 0. 0. 0. 0. 0. 0. 0. 0. 0. 0. 0. 0. 0. 0. 0. 0. 0. 0. 0. 0. 0. 0.\n",
      "  0.]\n",
      " [0. 1. 0. 0. 0. 0. 0. 0. 0. 0. 0. 0. 0. 0. 0. 0. 0. 0. 0. 0. 0. 0. 0. 0.\n",
      "  0. 0. 0. 0. 0. 0. 0. 0. 0. 0. 0. 0. 0. 0. 0. 0. 0. 0. 0. 0. 0. 0. 0. 0.\n",
      "  0.]\n",
      " [0. 1. 0. 0. 0. 0. 0. 0. 0. 0. 0. 0. 0. 0. 0. 0. 0. 0. 0. 0. 0. 0. 0. 0.\n",
      "  0. 0. 0. 0. 0. 0. 0. 0. 0. 0. 0. 0. 0. 0. 0. 0. 0. 0. 0. 0. 0. 0. 0. 0.\n",
      "  0.]\n",
      " [0. 1. 0. 0. 0. 0. 0. 0. 0. 0. 0. 0. 0. 0. 0. 0. 0. 0. 0. 0. 0. 0. 0. 0.\n",
      "  0. 0. 0. 0. 0. 0. 0. 0. 0. 0. 0. 0. 0. 0. 0. 0. 0. 0. 0. 0. 0. 0. 0. 0.\n",
      "  0.]\n",
      " [0. 1. 0. 0. 0. 0. 0. 0. 0. 0. 0. 0. 0. 0. 0. 0. 0. 0. 0. 0. 0. 0. 0. 0.\n",
      "  0. 0. 0. 0. 0. 0. 0. 0. 0. 0. 0. 0. 0. 0. 0. 0. 0. 0. 0. 0. 0. 0. 0. 0.\n",
      "  0.]]\n",
      "Y[0] = [0. 0. 0. 0. 0. 0. 0. 0. 0. 1. 0. 0. 0. 0. 0. 0. 0. 0. 0. 0. 0. 0. 0. 0.\n",
      " 0. 0. 0. 0. 0. 0. 0. 0. 0. 0. 0. 0. 0. 0. 0. 0. 0. 0. 0. 0. 0. 0. 0. 0.\n",
      " 0.]\n",
      "Training set size: 3920\n",
      "length_of_sequence: 5\n",
      "number_of_chars: 49\n"
     ]
    },
    {
     "ename": "ValueError",
     "evalue": "Error when checking input: expected input_3 to have shape (5, 63) but got array with shape (5, 49)",
     "output_type": "error",
     "traceback": [
      "\u001b[1;31m---------------------------------------------------------------------------\u001b[0m",
      "\u001b[1;31mValueError\u001b[0m                                Traceback (most recent call last)",
      "\u001b[1;32m<ipython-input-44-ebd27cc5e1a7>\u001b[0m in \u001b[0;36m<module>\u001b[1;34m()\u001b[0m\n\u001b[0;32m     15\u001b[0m     \u001b[0mtrainset_utils\u001b[0m\u001b[1;33m=\u001b[0m\u001b[0mtrainset_utils\u001b[0m\u001b[1;33m,\u001b[0m\u001b[1;33m\u001b[0m\u001b[0m\n\u001b[0;32m     16\u001b[0m     \u001b[0mname_max_length\u001b[0m\u001b[1;33m=\u001b[0m\u001b[1;36m25\u001b[0m\u001b[1;33m,\u001b[0m\u001b[1;33m\u001b[0m\u001b[0m\n\u001b[1;32m---> 17\u001b[1;33m     \u001b[0mverbose\u001b[0m\u001b[1;33m=\u001b[0m\u001b[1;32mTrue\u001b[0m\u001b[1;33m\u001b[0m\u001b[0m\n\u001b[0m\u001b[0;32m     18\u001b[0m )\n",
      "\u001b[1;32m<ipython-input-4-0975e272c360>\u001b[0m in \u001b[0;36mgenerate_name\u001b[1;34m(model, trainset_infos, trainset_utils, name_max_length, verbose)\u001b[0m\n\u001b[0;32m     55\u001b[0m         \u001b[1;31m# Predict new character probabilities\u001b[0m\u001b[1;33m\u001b[0m\u001b[1;33m\u001b[0m\u001b[0m\n\u001b[0;32m     56\u001b[0m         \u001b[1;31m# Actually this output a list of probabilities for each character\u001b[0m\u001b[1;33m\u001b[0m\u001b[1;33m\u001b[0m\u001b[0m\n\u001b[1;32m---> 57\u001b[1;33m         \u001b[0mp\u001b[0m \u001b[1;33m=\u001b[0m \u001b[0mmodel\u001b[0m\u001b[1;33m.\u001b[0m\u001b[0mpredict\u001b[0m\u001b[1;33m(\u001b[0m\u001b[0mx_cat\u001b[0m\u001b[1;33m)\u001b[0m\u001b[1;33m\u001b[0m\u001b[0m\n\u001b[0m\u001b[0;32m     58\u001b[0m \u001b[1;33m\u001b[0m\u001b[0m\n\u001b[0;32m     59\u001b[0m         \u001b[1;31m# Extract the best character (and its probability)\u001b[0m\u001b[1;33m\u001b[0m\u001b[1;33m\u001b[0m\u001b[0m\n",
      "\u001b[1;32m~\\Anaconda3\\envs\\tensorflow\\lib\\site-packages\\tensorflow\\python\\keras\\_impl\\keras\\engine\\training.py\u001b[0m in \u001b[0;36mpredict\u001b[1;34m(self, x, batch_size, verbose, steps)\u001b[0m\n\u001b[0;32m   1325\u001b[0m                        \u001b[1;34m'you should specify the `steps` '\u001b[0m\u001b[1;33m\u001b[0m\u001b[0m\n\u001b[0;32m   1326\u001b[0m                        'argument.')\n\u001b[1;32m-> 1327\u001b[1;33m     \u001b[0mx\u001b[0m\u001b[1;33m,\u001b[0m \u001b[0m_\u001b[0m\u001b[1;33m,\u001b[0m \u001b[0m_\u001b[0m \u001b[1;33m=\u001b[0m \u001b[0mself\u001b[0m\u001b[1;33m.\u001b[0m\u001b[0m_standardize_user_data\u001b[0m\u001b[1;33m(\u001b[0m\u001b[0mx\u001b[0m\u001b[1;33m)\u001b[0m\u001b[1;33m\u001b[0m\u001b[0m\n\u001b[0m\u001b[0;32m   1328\u001b[0m \u001b[1;33m\u001b[0m\u001b[0m\n\u001b[0;32m   1329\u001b[0m     \u001b[1;32mif\u001b[0m \u001b[0mcontext\u001b[0m\u001b[1;33m.\u001b[0m\u001b[0mexecuting_eagerly\u001b[0m\u001b[1;33m(\u001b[0m\u001b[1;33m)\u001b[0m\u001b[1;33m:\u001b[0m\u001b[1;33m\u001b[0m\u001b[0m\n",
      "\u001b[1;32m~\\Anaconda3\\envs\\tensorflow\\lib\\site-packages\\tensorflow\\python\\keras\\_impl\\keras\\engine\\training.py\u001b[0m in \u001b[0;36m_standardize_user_data\u001b[1;34m(self, x, y, sample_weight, class_weight, batch_size)\u001b[0m\n\u001b[0;32m    763\u001b[0m         \u001b[0mfeed_input_shapes\u001b[0m\u001b[1;33m,\u001b[0m\u001b[1;33m\u001b[0m\u001b[0m\n\u001b[0;32m    764\u001b[0m         \u001b[0mcheck_batch_axis\u001b[0m\u001b[1;33m=\u001b[0m\u001b[1;32mFalse\u001b[0m\u001b[1;33m,\u001b[0m  \u001b[1;31m# Don't enforce the batch size.\u001b[0m\u001b[1;33m\u001b[0m\u001b[0m\n\u001b[1;32m--> 765\u001b[1;33m         exception_prefix='input')\n\u001b[0m\u001b[0;32m    766\u001b[0m \u001b[1;33m\u001b[0m\u001b[0m\n\u001b[0;32m    767\u001b[0m     \u001b[1;32mif\u001b[0m \u001b[0my\u001b[0m \u001b[1;32mis\u001b[0m \u001b[1;32mnot\u001b[0m \u001b[1;32mNone\u001b[0m\u001b[1;33m:\u001b[0m\u001b[1;33m\u001b[0m\u001b[0m\n",
      "\u001b[1;32m~\\Anaconda3\\envs\\tensorflow\\lib\\site-packages\\tensorflow\\python\\keras\\_impl\\keras\\engine\\training_utils.py\u001b[0m in \u001b[0;36mstandardize_input_data\u001b[1;34m(data, names, shapes, check_batch_axis, exception_prefix)\u001b[0m\n\u001b[0;32m    190\u001b[0m                 \u001b[1;34m'Error when checking '\u001b[0m \u001b[1;33m+\u001b[0m \u001b[0mexception_prefix\u001b[0m \u001b[1;33m+\u001b[0m \u001b[1;34m': expected '\u001b[0m \u001b[1;33m+\u001b[0m\u001b[1;33m\u001b[0m\u001b[0m\n\u001b[0;32m    191\u001b[0m                 \u001b[0mnames\u001b[0m\u001b[1;33m[\u001b[0m\u001b[0mi\u001b[0m\u001b[1;33m]\u001b[0m \u001b[1;33m+\u001b[0m \u001b[1;34m' to have shape '\u001b[0m \u001b[1;33m+\u001b[0m \u001b[0mstr\u001b[0m\u001b[1;33m(\u001b[0m\u001b[0mshape\u001b[0m\u001b[1;33m)\u001b[0m \u001b[1;33m+\u001b[0m\u001b[1;33m\u001b[0m\u001b[0m\n\u001b[1;32m--> 192\u001b[1;33m                 ' but got array with shape ' + str(data_shape))\n\u001b[0m\u001b[0;32m    193\u001b[0m   \u001b[1;32mreturn\u001b[0m \u001b[0mdata\u001b[0m\u001b[1;33m\u001b[0m\u001b[0m\n\u001b[0;32m    194\u001b[0m \u001b[1;33m\u001b[0m\u001b[0m\n",
      "\u001b[1;31mValueError\u001b[0m: Error when checking input: expected input_3 to have shape (5, 63) but got array with shape (5, 49)"
     ]
    }
   ],
   "source": [
    "20180528-1516\n",
    "# man_model, _ = load_model_from_disk(date='20180528-1516')\n",
    "# elf_model, _ = load_model_from_disk(date='20180528-1524')\n",
    "# hobbit_model, _ = load_model_from_disk(date='20180528-1549')\n",
    "# dwarf_model, _ = load_model_from_disk(date='20180528-1555')\n",
    "# real_model, _ = load_model_from_disk(date='20180528-1834')\n",
    "# generate_name(\n",
    "#     model=hobbit_model,\n",
    "#     trainset_infos=trainset_infos,\n",
    "#     trainset_utils=trainset_utils,\n",
    "#     name_max_length=25,\n",
    "#     verbose=True\n",
    "# )\n"
   ]
  }
 ],
 "metadata": {
  "coursera": {
   "course_slug": "nlp-sequence-models",
   "graded_item_id": "1dYg0",
   "launcher_item_id": "MLhxP"
  },
  "kernelspec": {
   "display_name": "Python 3",
   "language": "python",
   "name": "python3"
  },
  "language_info": {
   "codemirror_mode": {
    "name": "ipython",
    "version": 3
   },
   "file_extension": ".py",
   "mimetype": "text/x-python",
   "name": "python",
   "nbconvert_exporter": "python",
   "pygments_lexer": "ipython3",
   "version": "3.5.5"
  }
 },
 "nbformat": 4,
 "nbformat_minor": 2
}
